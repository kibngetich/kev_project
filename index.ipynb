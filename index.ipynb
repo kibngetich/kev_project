{
 "cells": [
  {
   "cell_type": "code",
   "execution_count": 17,
   "metadata": {
    "vscode": {
     "languageId": "plaintext"
    }
   },
   "outputs": [
    {
     "ename": "NameError",
     "evalue": "name 'average_score' is not defined",
     "output_type": "error",
     "traceback": [
      "\u001b[1;31m---------------------------------------------------------------------------\u001b[0m",
      "\u001b[1;31mNameError\u001b[0m                                 Traceback (most recent call last)",
      "Cell \u001b[1;32mIn[17], line 7\u001b[0m\n\u001b[0;32m      5\u001b[0m    subjects\u001b[38;5;241m=\u001b[39m[\u001b[38;5;124m'\u001b[39m\u001b[38;5;124mmath\u001b[39m\u001b[38;5;124m'\u001b[39m,\u001b[38;5;124m'\u001b[39m\u001b[38;5;124mpython\u001b[39m\u001b[38;5;124m'\u001b[39m,\u001b[38;5;124m'\u001b[39m\u001b[38;5;124mai\u001b[39m\u001b[38;5;124m'\u001b[39m]\n\u001b[0;32m      6\u001b[0m    average_score\u001b[38;5;241m=\u001b[39m(math\u001b[38;5;241m+\u001b[39mpython\u001b[38;5;241m+\u001b[39mai)\u001b[38;5;241m/\u001b[39m\u001b[38;5;28mlen\u001b[39m(subjects)\n\u001b[1;32m----> 7\u001b[0m \u001b[38;5;28;01mif\u001b[39;00m average_score \u001b[38;5;241m>\u001b[39m \u001b[38;5;241m100\u001b[39m:\n\u001b[0;32m      8\u001b[0m    \u001b[38;5;28;01mcontinue\u001b[39;00m\n\u001b[0;32m      9\u001b[0m \u001b[38;5;28;01melif\u001b[39;00m  average_score \u001b[38;5;241m>\u001b[39m\u001b[38;5;241m=\u001b[39m\u001b[38;5;241m70\u001b[39m:\n",
      "\u001b[1;31mNameError\u001b[0m: name 'average_score' is not defined"
     ]
    }
   ],
   "source": [
    "#assign student scores and return student name, average score and comments\n",
    "i=list(range(5))\n",
    "for index in i:\n",
    " def student_grading(name,math,python,ai):\n",
    "    subjects=['math','python','ai']\n",
    "    average_score=(math+python+ai)/len(subjects)\n",
    " if average_score>100:\n",
    "     print('invalid score')\n",
    "  elif  average_score >=70:\n",
    "        print(name,'\\n',\n",
    "              'average score:',average_score,'\\n',\n",
    "              'comment:','excellent')\n",
    "  elif average_score>=60:\n",
    "        print(name,'\\n',\n",
    "              'average score:',average_score,'\\n',\n",
    "              'comment:','very good')\n",
    "  elif average_score>=50:\n",
    "        print(name,'\\n',\n",
    "              'average score:',average_score,'\\n',\n",
    "              'comment:','good')\n",
    "  elif average_score>=40:\n",
    "        print(name,'\\n',\n",
    "              'average score:',average_score,'\\n',\n",
    "              'comment:','pass')\n",
    "  else:\n",
    "        print(name,'\\n',\n",
    "              'average score:',average_score,'\\n',\n",
    "              'comment:','fail')\n",
    " name=input('your name:')\n",
    " python=float(input('score in python:'))\n",
    " math=float(input('score in math:'))\n",
    " ai=float(input('score in ai:'))\n",
    " student_grading(name,math,python,ai)\n",
    "\n",
    "    \n",
    "        \n",
    "    "
   ]
  },
  {
   "cell_type": "code",
   "execution_count": null,
   "metadata": {
    "vscode": {
     "languageId": "plaintext"
    }
   },
   "outputs": [],
   "source": []
  },
  {
   "cell_type": "code",
   "execution_count": null,
   "metadata": {},
   "outputs": [],
   "source": []
  }
 ],
 "metadata": {
  "kernelspec": {
   "display_name": "Python (learn-env)",
   "language": "python",
   "name": "learn-env"
  },
  "language_info": {
   "codemirror_mode": {
    "name": "ipython",
    "version": 3
   },
   "file_extension": ".py",
   "mimetype": "text/x-python",
   "name": "python",
   "nbconvert_exporter": "python",
   "pygments_lexer": "ipython3",
   "version": "3.11.7"
  }
 },
 "nbformat": 4,
 "nbformat_minor": 4
}
